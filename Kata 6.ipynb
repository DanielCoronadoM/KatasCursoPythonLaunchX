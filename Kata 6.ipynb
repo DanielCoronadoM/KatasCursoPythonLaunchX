{
 "cells": [
  {
   "cell_type": "markdown",
   "metadata": {},
   "source": [
    "# Ejercicio 1: Crear y usar listas de Python"
   ]
  },
  {
   "cell_type": "code",
   "execution_count": 6,
   "metadata": {},
   "outputs": [
    {
     "name": "stdout",
     "output_type": "stream",
     "text": [
      "The planets are: ['Mercury', 'Venus', 'Earth', 'Mars', 'Jupiter', 'Saturn', 'Uranus', 'Neptune']\n",
      "We added Pluto...\n",
      "The number of the planets is: 9\n",
      "The last planet is: Pluto\n"
     ]
    }
   ],
   "source": [
    "planets = ['Mercury', 'Venus', 'Earth', 'Mars', 'Jupiter', 'Saturn', 'Uranus', 'Neptune']\n",
    "print(\"The planets are:\", planets)\n",
    "print(\"We added Pluto...\")\n",
    "planets.append('Pluto')\n",
    "number_of_planets = len(planets)\n",
    "print(\"The number of the planets is:\", number_of_planets)\n",
    "print(\"The last planet is:\", planets[-1])"
   ]
  },
  {
   "cell_type": "markdown",
   "metadata": {},
   "source": [
    "# Ejercicio 2: Trabajando con datos de una lista"
   ]
  },
  {
   "cell_type": "code",
   "execution_count": 16,
   "metadata": {},
   "outputs": [
    {
     "name": "stdout",
     "output_type": "stream",
     "text": [
      "2\n",
      "Los planetas mas cercanos que Tierra son:\n",
      "['Mercurio', 'Venus']\n",
      "Los planetas mas alejados que Tierra son:\n",
      "['Marte', 'Jupiter', 'Saturno', 'Urano', 'Neptuno']\n"
     ]
    }
   ],
   "source": [
    "planetas = ['Mercurio', 'Venus', 'Tierra', 'Marte', 'Jupiter', 'Saturno', 'Urano', 'Neptuno']\n",
    "Nombre_del_planeta = input(\"Introduce un nombre comenzando por Mayúscula\")\n",
    "\n",
    "planeta_index = planetas.index(Nombre_del_planeta)\n",
    "print(planeta_index)\n",
    "\n",
    "print('Los planetas mas cercanos que ' + Nombre_del_planeta + ' son:')\n",
    "print(planetas[0:planeta_index])\n",
    "\n",
    "print('Los planetas mas alejados que ' + Nombre_del_planeta + ' son:')\n",
    "print(planetas[planeta_index+1:])\n"
   ]
  }
 ],
 "metadata": {
  "interpreter": {
   "hash": "2f2e751d595f4060fa4c3a1865b043c203f9dc943af51265bdaa3bce2fe42830"
  },
  "kernelspec": {
   "display_name": "Python 3.10.2 64-bit (windows store)",
   "language": "python",
   "name": "python3"
  },
  "language_info": {
   "codemirror_mode": {
    "name": "ipython",
    "version": 3
   },
   "file_extension": ".py",
   "mimetype": "text/x-python",
   "name": "python",
   "nbconvert_exporter": "python",
   "pygments_lexer": "ipython3",
   "version": "3.10.2"
  },
  "orig_nbformat": 4
 },
 "nbformat": 4,
 "nbformat_minor": 2
}
