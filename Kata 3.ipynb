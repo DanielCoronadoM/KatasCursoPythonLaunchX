{
 "cells": [
  {
   "cell_type": "code",
   "execution_count": 5,
   "metadata": {},
   "outputs": [
    {
     "name": "stdout",
     "output_type": "stream",
     "text": [
      "¡Alerta! Posible impacto.\n"
     ]
    }
   ],
   "source": [
    "#Ejercicio 1\n",
    "\n",
    "Asteroide = 49 #km/s\n",
    "if Asteroide > 25:\n",
    "    print(\"¡Alerta! Posible impacto de asteroide.\")"
   ]
  },
  {
   "cell_type": "code",
   "execution_count": 4,
   "metadata": {},
   "outputs": [
    {
     "name": "stdout",
     "output_type": "stream",
     "text": [
      "Todo en orden allí arriba\n"
     ]
    }
   ],
   "source": [
    "#Ejercicio 2\n",
    "asteroide = 19 #km/s\n",
    "if asteroide > 20:\n",
    "    print(\"¡La mirada hacia al cielo!\")\n",
    "elif asteroide == 20:\n",
    "    print(\"¡La mirada hacia al cielo!\")\n",
    "else:\n",
    "    print(\"Todo en orden allí arriba\")"
   ]
  },
  {
   "cell_type": "code",
   "execution_count": 28,
   "metadata": {},
   "outputs": [
    {
     "name": "stdout",
     "output_type": "stream",
     "text": [
      "¡La mirada hacia al cielo!\n"
     ]
    }
   ],
   "source": [
    "#Ejercicio 3\n",
    "dim_asteroide = 18 #Dimension en mts.\n",
    "vel_asteroide = 45 #Velocidad en km/s\n",
    "\n",
    "if dim_asteroide < 25 and vel_asteroide > 20:\n",
    "    print(\"¡La mirada hacia al cielo!\")\n",
    "elif dim_asteroide > 25 or vel_asteroide > 25:\n",
    "    print(\"¡Alerta! Posible impacto catastrófico.\")\n",
    "elif dim_asteroide < 25:\n",
    "    print(\"Todo en orde allí arriba\")\n",
    "else:\n",
    "    print(\"Todo en orden allí arriba\")\n"
   ]
  }
 ],
 "metadata": {
  "interpreter": {
   "hash": "cb2389f188e41cb8621b209ec47158a4879b324a430029cb1875e3190ea46827"
  },
  "kernelspec": {
   "display_name": "Python 3.10.2 64-bit (windows store)",
   "language": "python",
   "name": "python3"
  },
  "language_info": {
   "codemirror_mode": {
    "name": "ipython",
    "version": 3
   },
   "file_extension": ".py",
   "mimetype": "text/x-python",
   "name": "python",
   "nbconvert_exporter": "python",
   "pygments_lexer": "ipython3",
   "version": "3.10.2"
  },
  "orig_nbformat": 4
 },
 "nbformat": 4,
 "nbformat_minor": 2
}
