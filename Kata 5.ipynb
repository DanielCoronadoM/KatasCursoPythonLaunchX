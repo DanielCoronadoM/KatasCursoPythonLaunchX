{
 "cells": [
  {
   "cell_type": "markdown",
   "metadata": {},
   "source": [
    "# Ejercicio1 - Utilizar operadores aritméticos"
   ]
  },
  {
   "cell_type": "code",
   "execution_count": 4,
   "metadata": {},
   "outputs": [
    {
     "name": "stdout",
     "output_type": "stream",
     "text": [
      "628949330\n",
      "390577534\n"
     ]
    }
   ],
   "source": [
    "dist_tierra = 149597870 #km\n",
    "dist_jupiter = 778547200 #km\n",
    "\n",
    "dist_km = dist_tierra - dist_jupiter\n",
    "print(abs(dist_km)) #valor absoluto\n",
    "millas = dist_km * 0.621\n",
    "print(round(abs(millas))) #redondeo y valor absoluto"
   ]
  },
  {
   "cell_type": "markdown",
   "metadata": {},
   "source": [
    "# Ejercicio 2: convierte cadenas en números y usa valores absolutos"
   ]
  },
  {
   "cell_type": "code",
   "execution_count": 12,
   "metadata": {},
   "outputs": [
    {
     "name": "stdout",
     "output_type": "stream",
     "text": [
      "Distancia en Kilometros:  4345500000\n",
      "Distancia en millas:  2698555500\n"
     ]
    }
   ],
   "source": [
    "dist_planeta1 = input(\"Distancia en Km del sol al planeta #1\")\n",
    "dist_planeta2 = input(\"Distancia en Km del sol al planeta #2\")\n",
    "\n",
    "dist_planeta1 = int(dist_planeta1)\n",
    "dist_planeta2 = int(dist_planeta2)\n",
    "\n",
    "dist_km = dist_planeta1 - dist_planeta2\n",
    "print(\"Distancia en Kilometros: \",abs(dist_km))\n",
    "\n",
    "dist_millas = dist_km*0.621\n",
    "print(\"Distancia en millas: \",round(abs(dist_millas)))\n",
    "\n"
   ]
  }
 ],
 "metadata": {
  "interpreter": {
   "hash": "2f2e751d595f4060fa4c3a1865b043c203f9dc943af51265bdaa3bce2fe42830"
  },
  "kernelspec": {
   "display_name": "Python 3.10.2 64-bit (windows store)",
   "language": "python",
   "name": "python3"
  },
  "language_info": {
   "codemirror_mode": {
    "name": "ipython",
    "version": 3
   },
   "file_extension": ".py",
   "mimetype": "text/x-python",
   "name": "python",
   "nbconvert_exporter": "python",
   "pygments_lexer": "ipython3",
   "version": "3.10.2"
  },
  "orig_nbformat": 4
 },
 "nbformat": 4,
 "nbformat_minor": 2
}
