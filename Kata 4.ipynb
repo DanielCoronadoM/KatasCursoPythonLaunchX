{
 "cells": [
  {
   "cell_type": "markdown",
   "metadata": {},
   "source": [
    "# Ejercicio 1"
   ]
  },
  {
   "cell_type": "code",
   "execution_count": 86,
   "metadata": {},
   "outputs": [
    {
     "name": "stdout",
     "output_type": "stream",
     "text": [
      "\n",
      "On average, the Moon moves 4cm away from the Earth every year\n",
      "The highest daylight temperature of the Moon is 127 C\n",
      "\n",
      "On average, the Moon moves 4cm away from the Earth every year\n",
      "The highest daylight temperature of the Moon is 127 Celcius\n"
     ]
    }
   ],
   "source": [
    "text = \"\"\"Interesting facts about the Moon. The Moon is Earth's only satellite. There are several interesting facts about the Moon and how it affects life here on Earth. \n",
    "On average, the Moon moves 4cm away from the Earth every year. This yearly drift is not significant enough to cause immediate effects on Earth. The highest daylight temperature of the Moon is 127 C. \"\"\"\n",
    "\n",
    "parts = text.split('. ')\n",
    "parts\n",
    "\n",
    "#parts[3] prueba de partes de texto\n",
    "\n",
    "words_to_find = [\"average\", \"temperature\", \"distance\"]\n",
    "\n",
    "for item in parts:\n",
    "    for word_to_find in words_to_find:\n",
    "        if word_to_find in item:\n",
    "            print(item)\n",
    "            \n",
    "\n",
    "for item in parts:\n",
    "    for word_to_find in words_to_find:\n",
    "        if word_to_find in item:\n",
    "            print(item.replace(\"C\", \"Celcius\"))\n",
    "            break\n",
    "            \n"
   ]
  },
  {
   "cell_type": "markdown",
   "metadata": {},
   "source": [
    "# Ejercicio 2"
   ]
  },
  {
   "cell_type": "code",
   "execution_count": 87,
   "metadata": {},
   "outputs": [
    {
     "name": "stdout",
     "output_type": "stream",
     "text": [
      "Datos Acerca De La Luna\n",
      "--------------------------------------------------\n",
      "Planeta: Tierra\n",
      "gravedad en la Luna: 1.6199999999999999 m/s2\n"
     ]
    }
   ],
   "source": [
    "name = \"la Luna\"\n",
    "gravity = 0.00162\n",
    "planet = \"Tierra\"\n",
    "\n",
    "titulo = f'Datos acerca de {name}'\n",
    "#f'{titulo.title()}'\n",
    "\n",
    "Informacion = f\"\"\"\\n{\"-\"*50}\n",
    "Planeta: {planet}\n",
    "gravedad en {name}: {gravity*1000} m/s2\"\"\"\n",
    "#print(Informacion)\n",
    "\n",
    "plantilla = f\"\"\"{titulo.title()}{Informacion}\"\"\"\n",
    "print(plantilla)\n"
   ]
  },
  {
   "cell_type": "code",
   "execution_count": 88,
   "metadata": {},
   "outputs": [
    {
     "name": "stdout",
     "output_type": "stream",
     "text": [
      "Datos Acerca De Ganímedes\n",
      "--------------------------------------------------\n",
      "Planeta: Marte\n",
      "gravedad en Ganímedes: 1.4300000000000002 m/s2\n"
     ]
    }
   ],
   "source": [
    "name = \"Ganímedes\"\n",
    "gravity = 0.00143\n",
    "planet = \"Marte\"\n",
    "titulo = f'Datos acerca de {name}'\n",
    "#f'{titulo.title()}'\n",
    "\n",
    "Informacion = f\"\"\"\\n{\"-\"*50}\n",
    "Planeta: {planet}\n",
    "gravedad en {name}: {gravity*1000} m/s2\"\"\"\n",
    "#print(Informacion)\n",
    "\n",
    "plantilla = f\"\"\"{titulo.title()}{Informacion}\"\"\"\n",
    "print(plantilla)"
   ]
  }
 ],
 "metadata": {
  "interpreter": {
   "hash": "cb2389f188e41cb8621b209ec47158a4879b324a430029cb1875e3190ea46827"
  },
  "kernelspec": {
   "display_name": "Python 3.10.2 64-bit (windows store)",
   "language": "python",
   "name": "python3"
  },
  "language_info": {
   "codemirror_mode": {
    "name": "ipython",
    "version": 3
   },
   "file_extension": ".py",
   "mimetype": "text/x-python",
   "name": "python",
   "nbconvert_exporter": "python",
   "pygments_lexer": "ipython3",
   "version": "3.10.2"
  },
  "orig_nbformat": 4
 },
 "nbformat": 4,
 "nbformat_minor": 2
}
