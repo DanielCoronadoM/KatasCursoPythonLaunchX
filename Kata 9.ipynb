{
 "cells": [
  {
   "cell_type": "markdown",
   "metadata": {},
   "source": [
    "# Ejercicio 1: Trabajar con argumentos en funciones"
   ]
  },
  {
   "cell_type": "code",
   "execution_count": 5,
   "metadata": {},
   "outputs": [],
   "source": [
    "#def combustible(tanque_1, tanque_2, tanque_3):\n",
    "    #sum = tanque_1+tanque_2+tanque_3\n",
    "    #return sum/3\n",
    "#print(combustible(45, 65, 83)) #valores en %"
   ]
  },
  {
   "cell_type": "code",
   "execution_count": 12,
   "metadata": {},
   "outputs": [
    {
     "name": "stdout",
     "output_type": "stream",
     "text": [
      "Reporte de combustible:\n",
      "    Promedio general de combustible: 53.333333333333336 %\n",
      "    Tanque 1: 93 %\n",
      "    Tanque 2: 14 %\n",
      "    Tanque 3: 53 %\n"
     ]
    }
   ],
   "source": [
    "def prom(porcentajes):\n",
    "    total = sum(porcentajes)\n",
    "    tanques = len(porcentajes)\n",
    "    return total/tanques\n",
    "\n",
    "def combus_report(tanque_1, tanque_2, tanque_3):\n",
    "    return f\"\"\"Reporte de combustible:\n",
    "    Promedio general de combustible: {prom([tanque_1, tanque_2, tanque_3])} %\n",
    "    Tanque 1: {tanque_1} %\n",
    "    Tanque 2: {tanque_2} %\n",
    "    Tanque 3: {tanque_3} %\"\"\"\n",
    "\n",
    "print(combus_report(93,14,53))"
   ]
  },
  {
   "cell_type": "markdown",
   "metadata": {},
   "source": [
    "# Ejercicio 2: Trabajo con argumentos de palabra clave"
   ]
  },
  {
   "cell_type": "code",
   "execution_count": 15,
   "metadata": {},
   "outputs": [
    {
     "name": "stdout",
     "output_type": "stream",
     "text": [
      "\n",
      "    Destino: Moon\n",
      "    Tiempo total de viaje: 348 minutos\n",
      "    Combustible restante: 18872 litros \n"
     ]
    }
   ],
   "source": [
    "def rep_mision(prelanzam, tiem_vuelo, destino, tanque_2, tanque_1):\n",
    "    return f\"\"\"\n",
    "    Destino: {destino}\n",
    "    Tiempo total de viaje: {prelanzam+tiem_vuelo} minutos\n",
    "    Combustible restante: {tanque_1+tanque_2} litros \"\"\"\n",
    "print(rep_mision(14,334, 'Mars', 8945, 9927))"
   ]
  },
  {
   "cell_type": "code",
   "execution_count": 4,
   "metadata": {},
   "outputs": [
    {
     "name": "stdout",
     "output_type": "stream",
     "text": [
      "Reporte de Misión\n",
      "    Destino: Mars\n",
      "    Tiempo de la mision: 122 minutos\n",
      "    Combustible restante: 522926 galones\n",
      "    tanque_1: 123999 galones restantes\n",
      "tanque_2: 398927 galones restantes\n",
      "\n"
     ]
    }
   ],
   "source": [
    "def rep_mision(destino, *minutos, **reserva_comb):\n",
    "    reporte_compl = f\"\"\"Reporte de Misión\n",
    "    Destino: {destino}\n",
    "    Tiempo de la mision: {sum(minutos)} minutos\n",
    "    Combustible restante: {sum(reserva_comb.values())} galones\n",
    "    \"\"\"\n",
    "    for num_tanque, galones in reserva_comb.items():\n",
    "        reporte_compl += f\"{num_tanque}: {galones} galones restantes\\n\" \n",
    "    return reporte_compl\n",
    "\n",
    "print(rep_mision(\"Mars\",23,56,43,tanque_1=123999, tanque_2 = 398927))\n"
   ]
  }
 ],
 "metadata": {
  "interpreter": {
   "hash": "cb2389f188e41cb8621b209ec47158a4879b324a430029cb1875e3190ea46827"
  },
  "kernelspec": {
   "display_name": "Python 3.10.2 64-bit (windows store)",
   "language": "python",
   "name": "python3"
  },
  "language_info": {
   "codemirror_mode": {
    "name": "ipython",
    "version": 3
   },
   "file_extension": ".py",
   "mimetype": "text/x-python",
   "name": "python",
   "nbconvert_exporter": "python",
   "pygments_lexer": "ipython3",
   "version": "3.10.2"
  },
  "orig_nbformat": 4
 },
 "nbformat": 4,
 "nbformat_minor": 2
}
